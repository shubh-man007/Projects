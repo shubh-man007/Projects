{
 "cells": [
  {
   "cell_type": "code",
   "execution_count": 1,
   "metadata": {},
   "outputs": [
    {
     "name": "stderr",
     "output_type": "stream",
     "text": [
      "c:\\Users\\deshu\\Desktop\\ChaturGPT\\env1\\Lib\\site-packages\\tqdm\\auto.py:21: TqdmWarning: IProgress not found. Please update jupyter and ipywidgets. See https://ipywidgets.readthedocs.io/en/stable/user_install.html\n",
      "  from .autonotebook import tqdm as notebook_tqdm\n"
     ]
    }
   ],
   "source": [
    "from pathlib import Path\n",
    "import torch\n",
    "import torch.nn as nn\n",
    "from config import get_config, get_weights_file_path\n",
    "from train import get_model, get_ds, run_validation"
   ]
  },
  {
   "cell_type": "code",
   "execution_count": 3,
   "metadata": {},
   "outputs": [
    {
     "name": "stdout",
     "output_type": "stream",
     "text": [
      "Using device: cuda\n",
      "Max length of source sentence: 309\n",
      "Max length of target sentence: 274\n"
     ]
    },
    {
     "name": "stderr",
     "output_type": "stream",
     "text": [
      "C:\\Users\\deshu\\AppData\\Local\\Temp\\ipykernel_28688\\189826933.py:8: FutureWarning: You are using `torch.load` with `weights_only=False` (the current default value), which uses the default pickle module implicitly. It is possible to construct malicious pickle data which will execute arbitrary code during unpickling (See https://github.com/pytorch/pytorch/blob/main/SECURITY.md#untrusted-models for more details). In a future release, the default value for `weights_only` will be flipped to `True`. This limits the functions that could be executed during unpickling. Arbitrary objects will no longer be allowed to be loaded via this mode unless they are explicitly allowlisted by the user via `torch.serialization.add_safe_globals`. We recommend you start setting `weights_only=True` for any use case where you don't have full control of the loaded file. Please open an issue on GitHub for any issues related to this experimental feature.\n",
      "  state = torch.load(model_filename)\n"
     ]
    },
    {
     "data": {
      "text/plain": [
       "<All keys matched successfully>"
      ]
     },
     "execution_count": 3,
     "metadata": {},
     "output_type": "execute_result"
    }
   ],
   "source": [
    "device = torch.device(\"cuda\" if torch.cuda.is_available() else \"cpu\")\n",
    "print(\"Using device:\", device)\n",
    "config = get_config()\n",
    "train_dataloader, val_dataloader, tokenizer_src, tokenizer_tgt = get_ds(config)\n",
    "model = get_model(config, tokenizer_src.get_vocab_size(), tokenizer_tgt.get_vocab_size()).to(device)\n",
    "\n",
    "model_filename = get_weights_file_path(config, f\" 19\")\n",
    "state = torch.load(model_filename)\n",
    "model.load_state_dict(state['model_state_dict'])"
   ]
  },
  {
   "cell_type": "code",
   "execution_count": 4,
   "metadata": {},
   "outputs": [
    {
     "name": "stdout",
     "output_type": "stream",
     "text": [
      "--------------------------------------------------------------------------------\n",
      "SOURCE: At last, an empty cab turned up (it is a street where, as a rule, and when they are not wanted, empty cabs pass at the rate of three a minute, and hang about, and get in your way), and packing ourselves and our belongings into it, and shooting out a couple of Montmorency's friends, who had evidently sworn never to forsake him, we drove away amidst the cheers of the crowd, Biggs's boy shying a carrot after us for luck.\n",
      "TARGET: Finalmente, spuntò una vettura vuota (è una via, dove, di regola, quando non ne occorrono, di vetture vuote ne passano in media tre al minuto, e sfarfalleggiano in giro e vi si caccian fra i piedi), e montatici noi e i nostri beni mobili, e cacciando un paio di amici di Montmorency, che avevano evidentemente giurato di non abbandonarlo, partimmo seguiti dalle grida e dagli applausi della folla, e da una carota scagliataci dal garzone di Bigg per augurio.\n",
      "PREDICTED: Finalmente , spuntò una vettura vuota ( è un posticino dove , e , dove , e quando non ci si la strada di in un minuto , e ci in giro e a tre piedi ), e ai piedi dei nostri amici e gli amici che non avevano mai dato un paio di Montmorency , di Montmorency , di Montmorency , di non abbandonarlo , le giù , le .\n",
      "--------------------------------------------------------------------------------\n",
      "SOURCE: A sturgeon! a forty pound sturgeon! taken on a line, sir!\n",
      "TARGET: Uno storione, uno storione di quaranta libbre! preso con una lenza, signori!\n",
      "PREDICTED: Uno storione , uno storione di quaranta libbre ! preso con una lenza , signori !\n",
      "--------------------------------------------------------------------------------\n",
      "SOURCE: You do not chat and laugh.\n",
      "TARGET: Non si ciarla e non si ride.\n",
      "PREDICTED: Non si e non si ride .\n",
      "--------------------------------------------------------------------------------\n",
      "SOURCE: Can it be brother Nicholas?\n",
      "TARGET: Che sia Nikolaj?\n",
      "PREDICTED: È forse Nikolaj ?\n",
      "--------------------------------------------------------------------------------\n",
      "SOURCE: I have not yet said anything condemnatory of Mr. Rochester's project of marrying for interest and connections.\n",
      "TARGET: Nulla di quanto ho detto può far supporre che io biasimassi il signor Rochester di prender moglie per calcolo e per convenienza.\n",
      "PREDICTED: Non ho ancora detto che cosa può far supporre che il signor Rochester di prender moglie per marito per le sue cognizioni .\n",
      "--------------------------------------------------------------------------------\n",
      "SOURCE: The washerwoman at Streatley said she felt she owed it to herself to charge us just three times the usual prices for that wash. She said it had not been like washing, it had been more in the nature of excavating.\n",
      "TARGET: La lavandaia di Streatley dichiarò che doveva farci pagare il triplo del prezzo abituale, perchè la sua fatica non era stata di lavare, ma piuttosto di fare una specie d’escavazione.\n",
      "PREDICTED: La lavandaia di Streatley dichiarò che doveva farci pagare il triplo del triplo del suo metodo .\n",
      "--------------------------------------------------------------------------------\n",
      "SOURCE: He waited impatiently to hear that she was married or was getting married soon, hoping that such news, like the drawing of an aching tooth, would quite cure him.\n",
      "TARGET: Aspettava con ansia la notizia che si fosse sposata o stesse per sposarsi a giorni; sperava che una notizia simile, come l’estirpazione di un dente, finisse col guarirlo.\n",
      "PREDICTED: Egli aspettava l ’ ansia di che ella si dovesse o di , ma , sperando che la notizia così come il dente , , gli dava addosso la propria innocente .\n",
      "--------------------------------------------------------------------------------\n",
      "SOURCE: I could not lay a finger anywhere but I was pricked; and now I seem to have gathered up a stray lamb in my arms.\n",
      "TARGET: Non ho potuto allungare un dito, senza sentirmi pungere e ora state tranquilla fra le mie braccia come un agnellino mansueto.\n",
      "PREDICTED: Non potevo ancora un dito all ' infuori di lui e mi sentivo tranquilla , perché le mie braccia mi fossero come un agnellino .\n",
      "--------------------------------------------------------------------------------\n",
      "SOURCE: Be of good cheer, Richard; step out--that's it!\"\n",
      "TARGET: Via, Riccardo, siate coraggioso, cercate di camminare; vedete che tutto va bene.\n",
      "PREDICTED: Via , Riccardo , siate coraggioso , cercate di camminare ; vedete che tutto va bene .\n",
      "--------------------------------------------------------------------------------\n",
      "SOURCE: 'It is wrong from beginning to end,' said the Caterpillar decidedly, and there was silence for some minutes.\n",
      "TARGET: — L'hai detta male, dalla prima parola all'ultima, — disse il Bruco con accento risoluto. Vi fu un silenzio per qualche minuto.\n",
      "PREDICTED: — È mal di principio , per cominciare a finire , — disse il Bruco con un certo silenzio .\n"
     ]
    }
   ],
   "source": [
    "run_validation(model, val_dataloader, tokenizer_src, tokenizer_tgt, config['seq_len'], device, lambda msg: print(msg), 0, None, num_examples = 10)"
   ]
  },
  {
   "cell_type": "code",
   "execution_count": null,
   "metadata": {},
   "outputs": [],
   "source": []
  }
 ],
 "metadata": {
  "kernelspec": {
   "display_name": "env1",
   "language": "python",
   "name": "python3"
  },
  "language_info": {
   "codemirror_mode": {
    "name": "ipython",
    "version": 3
   },
   "file_extension": ".py",
   "mimetype": "text/x-python",
   "name": "python",
   "nbconvert_exporter": "python",
   "pygments_lexer": "ipython3",
   "version": "3.12.2"
  }
 },
 "nbformat": 4,
 "nbformat_minor": 2
}
